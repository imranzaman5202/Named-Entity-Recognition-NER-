{
 "cells": [
  {
   "cell_type": "markdown",
   "id": "fallen-refund",
   "metadata": {
    "papermill": {
     "duration": 0.006855,
     "end_time": "2021-06-23T07:55:14.047660",
     "exception": false,
     "start_time": "2021-06-23T07:55:14.040805",
     "status": "completed"
    },
    "tags": []
   },
   "source": [
    "![](https://miro.medium.com/max/1200/1*xs0usEQJ_QGg6qrvWJ0SDg.jpeg)"
   ]
  },
  {
   "cell_type": "markdown",
   "id": "clean-adventure",
   "metadata": {
    "papermill": {
     "duration": 0.005247,
     "end_time": "2021-06-23T07:55:14.058747",
     "exception": false,
     "start_time": "2021-06-23T07:55:14.053500",
     "status": "completed"
    },
    "tags": []
   },
   "source": [
    "# **Importing The Spacy Library for getting the NER (Named entity Recognition)**"
   ]
  },
  {
   "cell_type": "code",
   "execution_count": 1,
   "id": "proper-investigation",
   "metadata": {
    "_cell_guid": "b1076dfc-b9ad-4769-8c92-a6c4dae69d19",
    "_uuid": "8f2839f25d086af736a60e9eeb907d3b93b6e0e5",
    "execution": {
     "iopub.execute_input": "2021-06-23T07:55:14.076381Z",
     "iopub.status.busy": "2021-06-23T07:55:14.075469Z",
     "iopub.status.idle": "2021-06-23T07:55:14.703639Z",
     "shell.execute_reply": "2021-06-23T07:55:14.702944Z",
     "shell.execute_reply.started": "2021-06-23T07:50:24.138891Z"
    },
    "papermill": {
     "duration": 0.639452,
     "end_time": "2021-06-23T07:55:14.703815",
     "exception": false,
     "start_time": "2021-06-23T07:55:14.064363",
     "status": "completed"
    },
    "tags": []
   },
   "outputs": [],
   "source": [
    "import spacy\n",
    "from spacy import displacy"
   ]
  },
  {
   "cell_type": "markdown",
   "id": "internal-vanilla",
   "metadata": {
    "papermill": {
     "duration": 0.00513,
     "end_time": "2021-06-23T07:55:14.714347",
     "exception": false,
     "start_time": "2021-06-23T07:55:14.709217",
     "status": "completed"
    },
    "tags": []
   },
   "source": [
    "# **Calling Spacy**"
   ]
  },
  {
   "cell_type": "code",
   "execution_count": 2,
   "id": "southwest-palmer",
   "metadata": {
    "execution": {
     "iopub.execute_input": "2021-06-23T07:55:14.729845Z",
     "iopub.status.busy": "2021-06-23T07:55:14.728958Z",
     "iopub.status.idle": "2021-06-23T07:55:15.558982Z",
     "shell.execute_reply": "2021-06-23T07:55:15.559438Z",
     "shell.execute_reply.started": "2021-06-23T07:51:25.675807Z"
    },
    "papermill": {
     "duration": 0.839925,
     "end_time": "2021-06-23T07:55:15.559640",
     "exception": false,
     "start_time": "2021-06-23T07:55:14.719715",
     "status": "completed"
    },
    "tags": []
   },
   "outputs": [],
   "source": [
    "nlp = spacy.load('en_core_web_sm')"
   ]
  },
  {
   "cell_type": "markdown",
   "id": "future-experience",
   "metadata": {
    "papermill": {
     "duration": 0.005148,
     "end_time": "2021-06-23T07:55:15.570155",
     "exception": false,
     "start_time": "2021-06-23T07:55:15.565007",
     "status": "completed"
    },
    "tags": []
   },
   "source": [
    "# **Feeding the text to Sapcy for NER**"
   ]
  },
  {
   "cell_type": "code",
   "execution_count": 3,
   "id": "governing-postage",
   "metadata": {
    "execution": {
     "iopub.execute_input": "2021-06-23T07:55:15.584428Z",
     "iopub.status.busy": "2021-06-23T07:55:15.583588Z",
     "iopub.status.idle": "2021-06-23T07:55:15.623631Z",
     "shell.execute_reply": "2021-06-23T07:55:15.624065Z",
     "shell.execute_reply.started": "2021-06-23T07:52:00.680248Z"
    },
    "papermill": {
     "duration": 0.048659,
     "end_time": "2021-06-23T07:55:15.624251",
     "exception": false,
     "start_time": "2021-06-23T07:55:15.575592",
     "status": "completed"
    },
    "tags": []
   },
   "outputs": [],
   "source": [
    "text = nlp('Haha My name is Muhammad Imran Zaman and I was born in Pakistan. I am 27 years old. I am an expert in machine learning and deep learning. I love to share the new concepts on kaggle for last 2 years')"
   ]
  },
  {
   "cell_type": "markdown",
   "id": "alive-ministry",
   "metadata": {
    "papermill": {
     "duration": 0.005321,
     "end_time": "2021-06-23T07:55:15.635002",
     "exception": false,
     "start_time": "2021-06-23T07:55:15.629681",
     "status": "completed"
    },
    "tags": []
   },
   "source": [
    "# **Displaying the text with NER**"
   ]
  },
  {
   "cell_type": "code",
   "execution_count": 4,
   "id": "irish-provision",
   "metadata": {
    "execution": {
     "iopub.execute_input": "2021-06-23T07:55:15.650273Z",
     "iopub.status.busy": "2021-06-23T07:55:15.649343Z",
     "iopub.status.idle": "2021-06-23T07:55:15.658970Z",
     "shell.execute_reply": "2021-06-23T07:55:15.659480Z",
     "shell.execute_reply.started": "2021-06-23T07:52:22.602114Z"
    },
    "papermill": {
     "duration": 0.018229,
     "end_time": "2021-06-23T07:55:15.659651",
     "exception": false,
     "start_time": "2021-06-23T07:55:15.641422",
     "status": "completed"
    },
    "tags": []
   },
   "outputs": [
    {
     "data": {
      "text/html": [
       "<span class=\"tex2jax_ignore\"><div class=\"entities\" style=\"line-height: 2.5; direction: ltr\">Haha My name is \n",
       "<mark class=\"entity\" style=\"background: #aa9cfc; padding: 0.45em 0.6em; margin: 0 0.25em; line-height: 1; border-radius: 0.35em;\">\n",
       "    Muhammad Imran Zaman\n",
       "    <span style=\"font-size: 0.8em; font-weight: bold; line-height: 1; border-radius: 0.35em; text-transform: uppercase; vertical-align: middle; margin-left: 0.5rem\">PERSON</span>\n",
       "</mark>\n",
       " and I was born in \n",
       "<mark class=\"entity\" style=\"background: #feca74; padding: 0.45em 0.6em; margin: 0 0.25em; line-height: 1; border-radius: 0.35em;\">\n",
       "    Pakistan\n",
       "    <span style=\"font-size: 0.8em; font-weight: bold; line-height: 1; border-radius: 0.35em; text-transform: uppercase; vertical-align: middle; margin-left: 0.5rem\">GPE</span>\n",
       "</mark>\n",
       ". I am \n",
       "<mark class=\"entity\" style=\"background: #bfe1d9; padding: 0.45em 0.6em; margin: 0 0.25em; line-height: 1; border-radius: 0.35em;\">\n",
       "    27 years old\n",
       "    <span style=\"font-size: 0.8em; font-weight: bold; line-height: 1; border-radius: 0.35em; text-transform: uppercase; vertical-align: middle; margin-left: 0.5rem\">DATE</span>\n",
       "</mark>\n",
       ". I am an expert in machine learning and deep learning. I love to share the new concepts on kaggle for \n",
       "<mark class=\"entity\" style=\"background: #bfe1d9; padding: 0.45em 0.6em; margin: 0 0.25em; line-height: 1; border-radius: 0.35em;\">\n",
       "    last 2 years\n",
       "    <span style=\"font-size: 0.8em; font-weight: bold; line-height: 1; border-radius: 0.35em; text-transform: uppercase; vertical-align: middle; margin-left: 0.5rem\">DATE</span>\n",
       "</mark>\n",
       "</div></span>"
      ],
      "text/plain": [
       "<IPython.core.display.HTML object>"
      ]
     },
     "metadata": {},
     "output_type": "display_data"
    }
   ],
   "source": [
    "displacy.render(text, style = 'ent', jupyter=True)"
   ]
  }
 ],
 "metadata": {
  "kernelspec": {
   "display_name": "Python 3",
   "language": "python",
   "name": "python3"
  },
  "language_info": {
   "codemirror_mode": {
    "name": "ipython",
    "version": 3
   },
   "file_extension": ".py",
   "mimetype": "text/x-python",
   "name": "python",
   "nbconvert_exporter": "python",
   "pygments_lexer": "ipython3",
   "version": "3.7.9"
  },
  "papermill": {
   "default_parameters": {},
   "duration": 8.031971,
   "end_time": "2021-06-23T07:55:16.275332",
   "environment_variables": {},
   "exception": null,
   "input_path": "__notebook__.ipynb",
   "output_path": "__notebook__.ipynb",
   "parameters": {},
   "start_time": "2021-06-23T07:55:08.243361",
   "version": "2.3.2"
  }
 },
 "nbformat": 4,
 "nbformat_minor": 5
}
